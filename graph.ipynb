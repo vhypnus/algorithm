{
 "cells": [
  {
   "cell_type": "markdown",
   "metadata": {},
   "source": [
    "# [Graph and its representations](https://www.geeksforgeeks.org/graph-and-its-representations/)\n",
    "\n",
    "Following two are the most commonly used representations of a graph.\n",
    "1. Adjacency Matrix\n",
    "2. Adjacency List\n"
   ]
  },
  {
   "cell_type": "code",
   "execution_count": 6,
   "metadata": {},
   "outputs": [],
   "source": [
    "class AdjNode:\n",
    "    def __init__(self,data):\n",
    "        self.vertex = data\n",
    "        self.next = None\n",
    "        \n",
    "    def __hash__(self):\n",
    "        return hash(self.vertex)\n",
    "    \n",
    "    def __eq__(self,that):\n",
    "        return self.vertex == that.vertex\n",
    "    \n",
    "    def __str__(self):\n",
    "        return str(self.vertex)\n",
    "\n",
    "class Graph:\n",
    "    def __init__(self):\n",
    "        self.graph_dict = {}\n",
    "    \n",
    "    def add_edge(self,src,dest,weight=1):\n",
    "        src_node = AdjNode(src)\n",
    "        dest_node = AdjNode(dest)\n",
    "        \n",
    "        if not src_node in self.graph_dict:\n",
    "            self.graph_dict[src_node] = None\n",
    "        \n",
    "        if not dest_node in self.graph_dict:\n",
    "            self.graph_dict[dest_node] = None\n",
    "        \n",
    "        if self.graph_dict[src_node]:\n",
    "            dest_node.next = self.graph_dict[src_node]\n",
    "      \n",
    "        self.graph_dict[src_node] = (dest_node,weight)\n",
    "\n",
    "    def bfs(self,src = None):\n",
    "        for k,v in self.graph_dict:\n",
    "                print()\n",
    "\n",
    "        "
   ]
  },
  {
   "cell_type": "code",
   "execution_count": 7,
   "metadata": {},
   "outputs": [],
   "source": [
    "graph = Graph()\n",
    "graph.add_edge(0, 1) \n",
    "graph.add_edge(0, 4) \n",
    "graph.add_edge(1, 2) \n",
    "graph.add_edge(1, 3) \n",
    "graph.add_edge(1, 4) \n",
    "graph.add_edge(2, 3) \n",
    "graph.add_edge(3, 4) "
   ]
  },
  {
   "cell_type": "code",
   "execution_count": null,
   "metadata": {},
   "outputs": [],
   "source": []
  },
  {
   "cell_type": "code",
   "execution_count": null,
   "metadata": {},
   "outputs": [],
   "source": []
  },
  {
   "cell_type": "code",
   "execution_count": null,
   "metadata": {},
   "outputs": [],
   "source": []
  },
  {
   "cell_type": "code",
   "execution_count": null,
   "metadata": {},
   "outputs": [],
   "source": []
  },
  {
   "cell_type": "code",
   "execution_count": null,
   "metadata": {},
   "outputs": [],
   "source": []
  },
  {
   "cell_type": "code",
   "execution_count": null,
   "metadata": {},
   "outputs": [],
   "source": []
  },
  {
   "cell_type": "code",
   "execution_count": null,
   "metadata": {},
   "outputs": [],
   "source": []
  }
 ],
 "metadata": {
  "kernelspec": {
   "display_name": "Python 3",
   "language": "python",
   "name": "python3"
  },
  "language_info": {
   "codemirror_mode": {
    "name": "ipython",
    "version": 3
   },
   "file_extension": ".py",
   "mimetype": "text/x-python",
   "name": "python",
   "nbconvert_exporter": "python",
   "pygments_lexer": "ipython3",
   "version": "3.7.6"
  }
 },
 "nbformat": 4,
 "nbformat_minor": 4
}
