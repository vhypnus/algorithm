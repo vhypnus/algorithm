{
 "cells": [
  {
   "cell_type": "markdown",
   "metadata": {},
   "source": [
    "# [Graph and its representations](https://www.geeksforgeeks.org/graph-and-its-representations/)\n",
    "\n",
    "Following two are the most commonly used representations of a graph.\n",
    "1. Adjacency Matrix\n",
    "2. Adjacency List\n"
   ]
  },
  {
   "cell_type": "code",
   "execution_count": null,
   "metadata": {},
   "outputs": [],
   "source": [
    "class AdjNode:\n",
    "    def __init__(self,data):\n",
    "        self.vertex = data\n",
    "        self.next = None\n",
    "    \n",
    "    def __eq__(self,that):\n",
    "        return self.vertex == that.vertex\n",
    "\n",
    "class Graph:\n",
    "    def __init__(self):\n",
    "        self.graph_dict = None\n",
    "    \n",
    "    def add_edge(self,src,dest):\n",
    "        src_node = AdjNode(src)\n",
    "        dest_node = AdjNode(dest)\n",
    "        \n",
    "        if not src_node in self.graph_dict:\n",
    "            self.graph_dict[src_node] = None\n",
    "        \n",
    "        if not desc_node in self.graph_dict:\n",
    "            self.graph_dict[dest_node] = None\n",
    "        \n",
    "        if \n",
    "            \n",
    "        "
   ]
  }
 ],
 "metadata": {
  "kernelspec": {
   "display_name": "Python 3",
   "language": "python",
   "name": "python3"
  },
  "language_info": {
   "codemirror_mode": {
    "name": "ipython",
    "version": 3
   },
   "file_extension": ".py",
   "mimetype": "text/x-python",
   "name": "python",
   "nbconvert_exporter": "python",
   "pygments_lexer": "ipython3",
   "version": "3.7.6"
  }
 },
 "nbformat": 4,
 "nbformat_minor": 4
}
