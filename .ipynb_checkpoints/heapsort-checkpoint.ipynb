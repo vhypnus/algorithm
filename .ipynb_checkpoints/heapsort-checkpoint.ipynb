{
 "cells": [
  {
   "cell_type": "code",
   "execution_count": 11,
   "metadata": {},
   "outputs": [
    {
     "name": "stdout",
     "output_type": "stream",
     "text": [
      "[4, 6, 8, 1, 41, 21]\n",
      "3\n",
      "3\n",
      "2\n",
      "1\n",
      "0\n",
      "[41, 4, 6, 1, 8, 21]\n"
     ]
    }
   ],
   "source": [
    "def heapify(arr):\n",
    "    s = len(arr)\n",
    "    print(int(s/2))\n",
    "    for i in range(int(s/2),-1,-1):\n",
    "        print(i)\n",
    "        p,l,r = i,2*i,2*i+1\n",
    "       \n",
    "        if l < s and arr[l] > arr[p]:\n",
    "            p = l\n",
    "        \n",
    "        if r < s and arr[r] > arr[p]:\n",
    "            p = r\n",
    "        \n",
    "        if p != i:\n",
    "            arr[i],arr[p] = arr[p],arr[i]\n",
    "        \n",
    "        \n",
    " \n",
    "arr = [4,6,8,1,41,21]\n",
    "print(arr)\n",
    "heapify(arr)\n",
    "print(arr)\n",
    "        "
   ]
  },
  {
   "cell_type": "code",
   "execution_count": 10,
   "metadata": {},
   "outputs": [
    {
     "name": "stdout",
     "output_type": "stream",
     "text": [
      "4\n",
      "3\n",
      "2\n",
      "1\n",
      "0\n"
     ]
    }
   ],
   "source": [
    "for  i in range(4,-1,-1):\n",
    "    print(i)"
   ]
  },
  {
   "cell_type": "code",
   "execution_count": null,
   "metadata": {},
   "outputs": [],
   "source": []
  }
 ],
 "metadata": {
  "kernelspec": {
   "display_name": "Python 3",
   "language": "python",
   "name": "python3"
  },
  "language_info": {
   "codemirror_mode": {
    "name": "ipython",
    "version": 3
   },
   "file_extension": ".py",
   "mimetype": "text/x-python",
   "name": "python",
   "nbconvert_exporter": "python",
   "pygments_lexer": "ipython3",
   "version": "3.7.6"
  }
 },
 "nbformat": 4,
 "nbformat_minor": 4
}
