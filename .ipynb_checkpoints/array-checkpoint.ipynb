{
 "cells": [
  {
   "cell_type": "markdown",
   "metadata": {},
   "source": [
    "# rotation\n",
    "\n",
    "几种常见的解法\n",
    "time $O(n)$\n",
    "\n",
    "有几个变种形式\n",
    "- right rotation ==> left rotation\n"
   ]
  },
  {
   "cell_type": "code",
   "execution_count": 11,
   "metadata": {},
   "outputs": [],
   "source": [
    "\n",
    "def rotation(arr,num):\n",
    "    l = len(arr)\n",
    "    \n",
    "    num = num%l\n",
    "    g_c_d = gcd(l,num)\n",
    "    \n",
    "    for i in range(g_c_d):\n",
    "        temp = arr[i]\n",
    "        k,j = i,i\n",
    "        while True:\n",
    "            j = j+num\n",
    "            if j >= l:\n",
    "                j = j -l\n",
    "            \n",
    "            if j == i:\n",
    "                break\n",
    "            \n",
    "            arr[k] = arr[j]\n",
    "            k = j \n",
    "            \n",
    "        arr[k] = temp\n",
    "            \n",
    "            \n",
    "def gcd(a,b):\n",
    "    return a if b == 0 else gcd(b,a%b)\n",
    "\n",
    "def right_rotation(arr,n):\n",
    "    x = len(arr) -n\n",
    "    rotation(arr,x)\n",
    "        "
   ]
  },
  {
   "cell_type": "code",
   "execution_count": 10,
   "metadata": {},
   "outputs": [
    {
     "name": "stdout",
     "output_type": "stream",
     "text": [
      "[4, 5, 6, 7, 1, 2, 3]\n"
     ]
    }
   ],
   "source": [
    "arr = [1, 2, 3, 4, 5, 6, 7] \n",
    "d = 3\n",
    "rotation(arr, d) \n",
    "print(arr)\n"
   ]
  },
  {
   "cell_type": "code",
   "execution_count": 12,
   "metadata": {},
   "outputs": [
    {
     "name": "stdout",
     "output_type": "stream",
     "text": [
      "[5, 6, 7, 1, 2, 3, 4]\n"
     ]
    }
   ],
   "source": [
    "arr = [1, 2, 3, 4, 5, 6, 7] \n",
    "d = 3\n",
    "right_rotation(arr, d) \n",
    "print(arr)"
   ]
  },
  {
   "cell_type": "markdown",
   "metadata": {},
   "source": []
  },
  {
   "cell_type": "code",
   "execution_count": 3,
   "metadata": {},
   "outputs": [
    {
     "name": "stdout",
     "output_type": "stream",
     "text": [
      "[7, 9]\n",
      "[2, 10]\n"
     ]
    }
   ],
   "source": [
    "# [max profit](geeksforgeeks.org/maximum-difference-between-two-elements/) \n",
    "def max_diff(arr):\n",
    "    max_diff = [arr[0],arr[1]]\n",
    "    min_element = arr[0]\n",
    "    \n",
    "    for i in range(1,len(arr)):\n",
    "        if arr[i] - min_element > max_diff[1] - max_diff[0]:\n",
    "            max_diff = [min_element,arr[i]]\n",
    "        \n",
    "        if arr[i] < min_element:\n",
    "            min_element = arr[i]\n",
    "    \n",
    "    return max_diff\n",
    "\n",
    "arr = [7, 9, 5, 6, 3, 2]\n",
    "a = max_diff(arr)\n",
    "print(a)\n",
    "\n",
    "arr = [2, 3, 10, 6, 4, 8, 1]\n",
    "a = max_diff(arr)\n",
    "print(a)\n",
    "    "
   ]
  },
  {
   "cell_type": "code",
   "execution_count": 3,
   "metadata": {},
   "outputs": [
    {
     "name": "stdout",
     "output_type": "stream",
     "text": [
      "0\n",
      "1\n",
      "1\n"
     ]
    }
   ],
   "source": [
    "print(1^1)\n",
    "print(1&1)\n",
    "print(1|0)\n",
    "print(not 1)\n"
   ]
  },
  {
   "cell_type": "code",
   "execution_count": null,
   "metadata": {},
   "outputs": [],
   "source": []
  }
 ],
 "metadata": {
  "kernelspec": {
   "display_name": "Python 3",
   "language": "python",
   "name": "python3"
  },
  "language_info": {
   "codemirror_mode": {
    "name": "ipython",
    "version": 3
   },
   "file_extension": ".py",
   "mimetype": "text/x-python",
   "name": "python",
   "nbconvert_exporter": "python",
   "pygments_lexer": "ipython3",
   "version": "3.7.6"
  }
 },
 "nbformat": 4,
 "nbformat_minor": 4
}
