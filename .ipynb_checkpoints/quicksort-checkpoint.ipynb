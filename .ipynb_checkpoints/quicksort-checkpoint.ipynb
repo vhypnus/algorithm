{
 "cells": [
  {
   "cell_type": "code",
   "execution_count": 136,
   "metadata": {},
   "outputs": [],
   "source": [
    "# quicksort \n",
    "\n",
    "class Node:\n",
    "    def __init__(self,value,prev=None,next=None):\n",
    "        self.value = value\n",
    "        self.prev = prev\n",
    "        self.next = next\n",
    "        \n",
    "    def __str__(self):\n",
    "#         return \"{}\".format(self.value)\n",
    "        return \"({},{},{})\".format(self.value,self.prev.value if self.prev else None,self.next.value if self.next else None)\n",
    "        \n",
    "def toDoubleLinkedList(arr):\n",
    "    h,t = None,None\n",
    "    for x in arr:\n",
    "        if h == None:\n",
    "            h = Node(x)\n",
    "            t = h\n",
    "        else:\n",
    "            n = Node(x)\n",
    "            t.next = n\n",
    "            n.prev = t\n",
    "            t = n\n",
    "    return h,t\n",
    "\n",
    "def swap(a,b):\n",
    "    if not a or not b:\n",
    "        return\n",
    "    if a.next == b:\n",
    "        print(\"a->b\")\n",
    "        a.next,b.next = b.next,a\n",
    "        a.prev,b.prev = b,a.prev\n",
    "        a,b = b,a\n",
    "        if a.prev:\n",
    "            a.prev.next = a\n",
    "        if b.next:\n",
    "            b.next.prev = b\n",
    "    elif b.next == a:\n",
    "        print(\"b->a\")\n",
    "        b.next,a.next = a.next,b\n",
    "        b.prev,a.prev = a,b.prev\n",
    "        b,a = a,b\n",
    "        \n",
    "        if b.prev:\n",
    "            b.prev.next = b\n",
    "        if a.next:\n",
    "            a.next.prev = a\n",
    "    else:\n",
    "        print(\"a->...->b\")\n",
    "        a.prev,b.prev = b.prev,a.prev\n",
    "        a.next ,b.next = b.next,a.next\n",
    "#         print(a,b ,sep=\",\")\n",
    "        a,b = b,a\n",
    "#         print(a,b ,sep=\",\")\n",
    "        if a.prev:\n",
    "            a.prev.next = a\n",
    "        if b.prev:\n",
    "            b.prev.next = b\n",
    "        if a.next :\n",
    "            a.next.prev = a\n",
    "        if b.next :\n",
    "            b.next.prev = b\n",
    "#         a.prev.next ,b.prev.next = a,b\n",
    "#         a.next.prev,b.next.prev = a,b\n",
    "    return a,b\n",
    "\n",
    "def forward(h):\n",
    "    while h.prev != None:\n",
    "        h = h.prev\n",
    "    n = h \n",
    "    \n",
    "    while n != None:\n",
    "        print(n,end=\"->\")\n",
    "        n = n.next\n",
    "    print()"
   ]
  },
  {
   "cell_type": "code",
   "execution_count": 112,
   "metadata": {},
   "outputs": [
    {
     "name": "stdout",
     "output_type": "stream",
     "text": [
      "[10, 21, 32, 15, 37, 9, 5, 7, 1]\n",
      "(10,None,21)->(21,10,32)->(32,21,15)->(15,32,37)->(37,15,9)->(9,37,5)->(5,9,7)->(7,5,1)->(1,7,None)->\n"
     ]
    }
   ],
   "source": [
    "arr = [10,21,32,15,37,9,5,7,1]\n",
    "print(arr)\n",
    "h,t = toDoubleLinkedList(arr)\n",
    "forward(h)\n",
    "\n",
    "\n"
   ]
  },
  {
   "cell_type": "code",
   "execution_count": 138,
   "metadata": {},
   "outputs": [
    {
     "name": "stdout",
     "output_type": "stream",
     "text": [
      "(10,None,21)->(21,10,32)->(32,21,15)->(15,32,37)->(37,15,9)->(9,37,5)->(5,9,7)->(7,5,1)->(1,7,None)->\n",
      "(21,10,32),(32,21,15)\n",
      "a->b\n",
      "(32,10,21),(21,32,15)\n",
      "(10,None,32)->(32,10,21)->(21,32,15)->(15,21,37)->(37,15,9)->(9,37,5)->(5,9,7)->(7,5,1)->(1,7,None)->\n",
      "(10,None,32)->(32,10,21)->(21,32,15)->(15,21,37)->(37,15,9)->(9,37,5)->(5,9,7)->(7,5,1)->(1,7,None)->\n"
     ]
    }
   ],
   "source": [
    "\n",
    "h,t = toDoubleLinkedList(arr)\n",
    "forward(h)\n",
    "a,b = h.next,h.next.next\n",
    "print(a,b,sep=\",\")\n",
    "a,b= swap(a,b)\n",
    "print(a,b,sep=\",\")\n",
    "forward(h)\n",
    "\n",
    "swap(a,None)\n",
    "forward(h)\n",
    "# swap(b,a)\n",
    "# b = b.next\n",
    "# swap(a,b)"
   ]
  },
  {
   "cell_type": "code",
   "execution_count": 114,
   "metadata": {},
   "outputs": [
    {
     "name": "stdout",
     "output_type": "stream",
     "text": [
      "(10,None,21)->(21,10,32)->(32,21,15)->(15,32,37)->(37,15,9)->(9,37,5)->(5,9,7)->(7,5,1)->(1,7,None)->\n",
      "a->...->b\n",
      "(1,None,21)->(21,1,32)->(32,21,15)->(15,32,37)->(37,15,9)->(9,37,5)->(5,9,7)->(7,5,10)->(10,7,None)->\n"
     ]
    }
   ],
   "source": [
    "h,t = toDoubleLinkedList(arr)\n",
    "forward(h)\n",
    "swap(h,t)\n",
    "forward(h)"
   ]
  },
  {
   "cell_type": "code",
   "execution_count": 115,
   "metadata": {},
   "outputs": [
    {
     "name": "stdout",
     "output_type": "stream",
     "text": [
      "(10,None,21)->(21,10,32)->(32,21,15)->(15,32,37)->(37,15,9)->(9,37,5)->(5,9,7)->(7,5,1)->(1,7,None)->\n",
      "(21,10,32),(32,21,15)\n",
      "b->a\n",
      "(10,None,32)->(32,10,21)->(21,32,15)->(15,21,37)->(37,15,9)->(9,37,5)->(5,9,7)->(7,5,1)->(1,7,None)->\n"
     ]
    }
   ],
   "source": [
    "h,t = toDoubleLinkedList(arr)\n",
    "forward(h)\n",
    "a,b = h.next,h.next.next\n",
    "print(a,b,sep=\",\")\n",
    "swap(b,a)\n",
    "forward(h)"
   ]
  },
  {
   "cell_type": "code",
   "execution_count": 116,
   "metadata": {},
   "outputs": [
    {
     "name": "stdout",
     "output_type": "stream",
     "text": [
      "(10,None,21)->(21,10,32)->(32,21,15)->(15,32,37)->(37,15,9)->(9,37,5)->(5,9,7)->(7,5,1)->(1,7,None)->\n",
      "a->...->b\n",
      "(10,None,15)->(15,10,32)->(32,15,21)->(21,32,37)->(37,21,9)->(9,37,5)->(5,9,7)->(7,5,1)->(1,7,None)->\n"
     ]
    }
   ],
   "source": [
    "h,t = toDoubleLinkedList(arr)\n",
    "forward(h)\n",
    "a,b = h.next,h.next.next.next\n",
    "swap(a,b)\n",
    "forward(h)"
   ]
  },
  {
   "cell_type": "code",
   "execution_count": 147,
   "metadata": {},
   "outputs": [
    {
     "name": "stdout",
     "output_type": "stream",
     "text": [
      "(10,None,21)->(21,10,32)->(32,21,15)->(15,32,37)->(37,15,9)->(9,37,5)->(5,9,7)->(7,5,11)->(11,7,None)->\n",
      "(11,37,9)\n",
      "(21,None,32)->(32,21,15)->(15,32,37)->(37,15,11)->(11,37,9)->(9,11,5)->(5,9,7)->(7,5,10)->(10,7,None)->\n"
     ]
    }
   ],
   "source": [
    "def swapvalue(a,b):\n",
    "    if not a or not b :\n",
    "        return \n",
    "    a.value ,b.value = b.value,a.value\n",
    "\n",
    "def partition(h,t):\n",
    "    \n",
    "    n,p = h,h\n",
    "    while n != t:\n",
    "        if n.value > t.value:\n",
    "            swapvalue(n,p)\n",
    "            p = p.next\n",
    "        n = n.next\n",
    "        \n",
    "    swapvalue(p,t)\n",
    "    return p \n",
    "    \n",
    " \n",
    "arr = [10,21,32,15,37,9,5,7,11]\n",
    "h,t = toDoubleLinkedList(arr)\n",
    "forward(h)\n",
    "p = partition(h,t)\n",
    "print(p)\n",
    "forward(h)\n"
   ]
  },
  {
   "cell_type": "code",
   "execution_count": 154,
   "metadata": {},
   "outputs": [
    {
     "name": "stdout",
     "output_type": "stream",
     "text": [
      "(100,None,51)->(51,100,42)->(42,51,35)->(35,42,27)->(27,35,9)->(9,27,7)->(7,9,7)->(7,7,1)->(1,7,None)->\n",
      "(100,None,51)->(51,100,42)->(42,51,35)->(35,42,27)->(27,35,9)->(9,27,7)->(7,9,7)->(7,7,1)->(1,7,None)->\n"
     ]
    }
   ],
   "source": [
    "\n",
    "def quicksort(h,t):\n",
    "    if h == None or t == None or h == t or t.next == h:\n",
    "        return\n",
    "    \n",
    "    p = partition(h,t)\n",
    "    quicksort(h,p.prev)\n",
    "    quicksort(p.next,t)\n",
    "    \n",
    "    \n",
    "arr = [100,51,42,35,27,9,7,7,1]\n",
    "h,t = toDoubleLinkedList(arr)\n",
    "forward(h)\n",
    "quicksort(h,t)\n",
    "forward(h)"
   ]
  },
  {
   "cell_type": "code",
   "execution_count": null,
   "metadata": {},
   "outputs": [],
   "source": []
  }
 ],
 "metadata": {
  "kernelspec": {
   "display_name": "Python 3",
   "language": "python",
   "name": "python3"
  },
  "language_info": {
   "codemirror_mode": {
    "name": "ipython",
    "version": 3
   },
   "file_extension": ".py",
   "mimetype": "text/x-python",
   "name": "python",
   "nbconvert_exporter": "python",
   "pygments_lexer": "ipython3",
   "version": "3.7.6"
  }
 },
 "nbformat": 4,
 "nbformat_minor": 4
}
