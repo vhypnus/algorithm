{
 "cells": [
  {
   "cell_type": "markdown",
   "metadata": {},
   "source": [
    "# [Greatest common divisor](https://en.wikipedia.org/wiki/Greatest_common_divisor)"
   ]
  },
  {
   "cell_type": "code",
   "execution_count": 2,
   "metadata": {},
   "outputs": [
    {
     "name": "stdout",
     "output_type": "stream",
     "text": [
      "6\n",
      "6\n"
     ]
    }
   ],
   "source": [
    "def gcd(a,b):\n",
    "    return a if b == 0 else gcd(b,a%b)\n",
    "print(gcd(12,6))\n",
    "print(gcd(6,12))\n",
    "    "
   ]
  },
  {
   "cell_type": "markdown",
   "metadata": {},
   "source": [
    "# [Least Common Multiple](https://www.geeksforgeeks.org/program-to-find-lcm-of-two-numbers/)"
   ]
  },
  {
   "cell_type": "code",
   "execution_count": 4,
   "metadata": {},
   "outputs": [
    {
     "name": "stdout",
     "output_type": "stream",
     "text": [
      "60.0\n"
     ]
    }
   ],
   "source": [
    "def lcm(a,b):\n",
    "    g_c_d = gcd(a,b)\n",
    "    return a*b/g_c_d\n",
    "print(lcm(12,5))"
   ]
  },
  {
   "cell_type": "markdown",
   "metadata": {},
   "source": [
    "# [Efficient program to print all prime factors of a given number](https://www.geeksforgeeks.org/print-all-prime-factors-of-a-given-number/)"
   ]
  },
  {
   "cell_type": "code",
   "execution_count": 33,
   "metadata": {},
   "outputs": [
    {
     "name": "stdout",
     "output_type": "stream",
     "text": [
      "23 59\n"
     ]
    }
   ],
   "source": [
    "import math\n",
    "\n",
    "\n",
    "def primeFactors(n):\n",
    "    \n",
    "    while n & 1 == 0:\n",
    "        print(2,end=\" \")\n",
    "        n = n >> 1\n",
    "        \n",
    "    for i in range(3,int(math.sqrt(n))+1,2):\n",
    "        while n % i == 0:\n",
    "            print(i,end=\" \")\n",
    "            n = n/i\n",
    "        if n == 1:\n",
    "            break\n",
    "    \n",
    "    if n != 1:\n",
    "        print(int(n))\n",
    "\n",
    "primeFactors(1357)"
   ]
  },
  {
   "cell_type": "markdown",
   "metadata": {},
   "source": []
  },
  {
   "cell_type": "code",
   "execution_count": 41,
   "metadata": {},
   "outputs": [
    {
     "name": "stdout",
     "output_type": "stream",
     "text": [
      "21\n",
      "4\n"
     ]
    }
   ],
   "source": []
  },
  {
   "cell_type": "code",
   "execution_count": 37,
   "metadata": {},
   "outputs": [
    {
     "name": "stdout",
     "output_type": "stream",
     "text": [
      "1\n",
      "2\n",
      "3\n",
      "4\n"
     ]
    }
   ],
   "source": [
    "for i in range(1,5):\n",
    "    print(i)"
   ]
  },
  {
   "cell_type": "code",
   "execution_count": null,
   "metadata": {},
   "outputs": [],
   "source": []
  }
 ],
 "metadata": {
  "kernelspec": {
   "display_name": "Python 3",
   "language": "python",
   "name": "python3"
  },
  "language_info": {
   "codemirror_mode": {
    "name": "ipython",
    "version": 3
   },
   "file_extension": ".py",
   "mimetype": "text/x-python",
   "name": "python",
   "nbconvert_exporter": "python",
   "pygments_lexer": "ipython3",
   "version": "3.7.6"
  }
 },
 "nbformat": 4,
 "nbformat_minor": 4
}
