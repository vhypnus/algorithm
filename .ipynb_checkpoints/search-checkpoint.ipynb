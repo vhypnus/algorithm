{
 "cells": [
  {
   "cell_type": "markdown",
   "metadata": {},
   "source": [
    "# [Find the Missing Number](https://www.geeksforgeeks.org/find-the-missing-number/)"
   ]
  },
  {
   "cell_type": "code",
   "execution_count": null,
   "metadata": {},
   "outputs": [],
   "source": [
    "def getMissingNo(a):\n",
    "    total = 0\n",
    "    for i in range(1,len(a)+2):\n",
    "        total += i\n",
    "    \n",
    "    for i in range(len(a)):\n",
    "        total -= a[i]\n",
    "        \n",
    "    return total\n",
    "\n",
    "print(getMissingNo([2,3,1,6,5]))"
   ]
  },
  {
   "cell_type": "markdown",
   "metadata": {},
   "source": [
    "# [Median of two sorted arrays of same size](https://www.geeksforgeeks.org/median-of-two-sorted-arrays/)"
   ]
  },
  {
   "cell_type": "code",
   "execution_count": 56,
   "metadata": {},
   "outputs": [
    {
     "name": "stdout",
     "output_type": "stream",
     "text": [
      "3 6\n",
      "middle index: (4, 4)\n",
      "8.0\n",
      "3 7\n",
      "middle index: (4, 5)\n",
      "middle value 8.5\n",
      "3 3\n",
      "middle index: (2, 3)\n",
      "middle value 8.5\n",
      "--------------------------------\n",
      "6 3\n",
      "middle index: (4, 4)\n",
      "8.0\n",
      "7 3\n",
      "middle index: (4, 5)\n",
      "middle value 8.5\n",
      "3 3\n",
      "middle index: (2, 3)\n",
      "middle value 8.5\n",
      "--------------------------------\n",
      "5 4\n",
      "s_e (0, 5) (0, 4)\n",
      "(0, 5) (0, 4)\n",
      "m_alias (2, 2)\n",
      "delta 1\n",
      "(1, 2) (2, 3)\n",
      "m_alias (1, 2)\n",
      "(1, 4) (-1, 2)\n",
      "m_alias (2, 0)\n",
      "delta 2\n",
      "(0, 2) (0, 2)\n",
      "m_alias (1, 1)\n",
      "hello\n",
      "middle value 13\n"
     ]
    }
   ],
   "source": [
    "def getMedian(a,b):\n",
    "    \n",
    "    l_a,l_b = len(a),len(b)\n",
    "    print(l_a,l_b,sep=\" \")\n",
    "    if a[0] >= b[-1] or b[0] > a[-1]:\n",
    "        \"\"\"\n",
    "        case: a => [1,2,3]  b=>[5,6,7,8,9]\n",
    "        case: b => [1,2,3]  a=>[5,6,7,8,9,10]\n",
    "        \"\"\"\n",
    "        m = (int((l_a+l_b)/2-1),int((l_a+l_b)/2)) if (l_a+l_b) & 1 == 0 else ((int((l_a+l_b)/2),int((l_a+l_b)/2)))\n",
    "        print(\"middle index:\",m)\n",
    "        # swap\n",
    "        if b[0] > a[-1]:\n",
    "            a,b,l_a,l_b = b,a,l_b,l_a\n",
    "        \n",
    "        if l_b < m[0]:\n",
    "            return (a[m[0]-l_b]+a[m[1]-l_b])/2\n",
    "        elif l_b > m[1]:\n",
    "            return (b[m[0]]+b[m[1]])/2\n",
    "        else:\n",
    "            return (b[m[0]]+a[m[1]-l_b])/2\n",
    "    else:\n",
    "        \"\"\"\n",
    "        case\n",
    "        \"\"\"\n",
    "        a_s_e,b_s_e = (0,l_a),(0,l_b)\n",
    "        \n",
    "        print(\"s_e\",a_s_e,b_s_e,sep=\" \")\n",
    "#         v_a,v_b = a[m[0]],b[m[1]]\n",
    "        \n",
    "        while True:\n",
    "            print(a_s_e,b_s_e,sep=\" \")\n",
    "            m_alias = (int((a_s_e[0]+a_s_e[1])/2),int((b_s_e[0]+b_s_e[1])/2))\n",
    "            print(\"m_alias\",m_alias)\n",
    "            if b[m_alias[1]+1] > a[m_alias[0]] > b[m_alias[1]-1]:\n",
    "                if (l_a+l_b) & 1  == 0 :\n",
    "                    return (a[m_alias[0]]+b[m_alias[1]])/2\n",
    "                else:\n",
    "                    print(\"hello\")\n",
    "                    return b[m_alias[1]]\n",
    "                    \n",
    "            elif a[m_alias[0]] > b[m_alias[1]+1]:\n",
    "                delta = int((l_b-m_alias[1])/2)\n",
    "                print(\"delta\",delta)\n",
    "                a_s_e,b_s_e = (m_alias[0]-delta,m_alias[0]),(m_alias[1],m_alias[1]+delta)\n",
    "            else:\n",
    "                delta = int((m_alias[0]+l_a)/2)\n",
    "                a_s_e,b_s_e = (m_alias[0],m_alias[0]+delta),(m_alias[1]-delta,m_alias[1])\n",
    "                \n",
    "\n",
    "a = [11,12,13] \n",
    "b = [4,5,6,7,8,9] \n",
    "print(getMedian(a,b))\n",
    "\n",
    "a = [11,12,13] \n",
    "b = [4,5,6,7,8,9,10] \n",
    "print(\"middle value\",getMedian(a,b))\n",
    "\n",
    "a = [11,12,13] \n",
    "b = [4,5,6] \n",
    "print(\"middle value\",getMedian(a,b))\n",
    "\n",
    "print(\"--------------------------------\")\n",
    "b = [11,12,13] \n",
    "a = [4,5,6,7,8,9] \n",
    "print(getMedian(a,b))\n",
    "\n",
    "b = [11,12,13] \n",
    "a = [4,5,6,7,8,9,10] \n",
    "print(\"middle value\",getMedian(a,b))\n",
    "\n",
    "b = [11,12,13] \n",
    "a = [4,5,6] \n",
    "print(\"middle value\",getMedian(a,b))\n",
    "\n",
    "print(\"--------------------------------\")\n",
    "a = [1, 12,60,70,80] \n",
    "b = [2, 13, 17, 30] \n",
    "print(\"middle value\",getMedian(a,b))"
   ]
  },
  {
   "cell_type": "code",
   "execution_count": 49,
   "metadata": {},
   "outputs": [
    {
     "name": "stdout",
     "output_type": "stream",
     "text": [
      "1\n"
     ]
    }
   ],
   "source": [
    "print(7 & 1)"
   ]
  },
  {
   "cell_type": "markdown",
   "metadata": {},
   "source": [
    "# [Find k closest elements to a given value](https://www.geeksforgeeks.org/find-k-closest-elements-given-value/)"
   ]
  },
  {
   "cell_type": "code",
   "execution_count": 73,
   "metadata": {},
   "outputs": [
    {
     "name": "stdout",
     "output_type": "stream",
     "text": [
      "0,13,6\n",
      "find the num and index 35 4\n",
      "39\n",
      "30\n",
      "42\n",
      "45\n"
     ]
    }
   ],
   "source": [
    "\n",
    "def findClosest(arr,k,num):\n",
    "    \n",
    "    s,e,m= 0,len(arr),int(len(arr)/2)\n",
    "    while arr[m] != num:\n",
    "        print(s,e,m,sep=\",\")\n",
    "        if m < 0:\n",
    "            raise\n",
    "            \n",
    "        if arr[m] > num:\n",
    "            s,e = s,int((e+m-1)/2)\n",
    "        else:\n",
    "            s,e = m+1,e\n",
    "        \n",
    "        # reset\n",
    "        m = int((s+e)/2)\n",
    "    print(\"find the num and index\",num ,m ,sep=\" \")\n",
    "    \n",
    "    s,e,m = m,m,m\n",
    "    \n",
    "    while k != 0:\n",
    "        if arr[m] - arr[s-1] > arr[e+1]-arr[m]:\n",
    "            s,e = s,e+1\n",
    "            print(arr[e])\n",
    "        else:\n",
    "            s,e = s-1,e\n",
    "            print(arr[s])\n",
    "        \n",
    "        k -= 1\n",
    "    \n",
    "        \n",
    "#     while s != e:\n",
    "#         print(arr[s])\n",
    "#         s += 1\n",
    "    # Driver Code \n",
    "\n",
    "if __name__ == \"__main__\" : \n",
    "  \n",
    "    arr =[12, 16, 22, 30, 35, 39, 42,  \n",
    "              45, 48, 50, 53, 55, 56] \n",
    "                  \n",
    "    n = len(arr) \n",
    "    x = 35\n",
    "    k = 4\n",
    "      \n",
    "    findClosest(arr, k,x) \n",
    "    "
   ]
  },
  {
   "cell_type": "code",
   "execution_count": null,
   "metadata": {},
   "outputs": [],
   "source": []
  }
 ],
 "metadata": {
  "kernelspec": {
   "display_name": "Python 3",
   "language": "python",
   "name": "python3"
  },
  "language_info": {
   "codemirror_mode": {
    "name": "ipython",
    "version": 3
   },
   "file_extension": ".py",
   "mimetype": "text/x-python",
   "name": "python",
   "nbconvert_exporter": "python",
   "pygments_lexer": "ipython3",
   "version": "3.7.6"
  }
 },
 "nbformat": 4,
 "nbformat_minor": 4
}
