{
 "cells": [
  {
   "cell_type": "code",
   "execution_count": null,
   "metadata": {},
   "outputs": [],
   "source": [
    "# [bell numbers](https://www.geeksforgeeks.org/bell-numbers-number-of-ways-to-partition-a-set/)\n",
    "Given a set of n elements, find number of ways of partitioning it.\n",
    "Examples:\n",
    "\n",
    "```\n",
    "Input:  n = 2\n",
    "Output: Number of ways = 2\n",
    "Explanation: Let the set be {1, 2}\n",
    "            { {1}, {2} } \n",
    "            { {1, 2} }\n",
    "\n",
    "Input:  n = 3\n",
    "Output: Number of ways = 5\n",
    "Explanation: Let the set be {1, 2, 3}\n",
    "             { {1}, {2}, {3} }\n",
    "             { {1}, {2, 3} }\n",
    "             { {2}, {1, 3} }\n",
    "             { {3}, {1, 2} }\n",
    "             { {1, 2, 3} }. \n",
    "```"
   ]
  }
 ],
 "metadata": {
  "kernelspec": {
   "display_name": "Python 3",
   "language": "python",
   "name": "python3"
  },
  "language_info": {
   "codemirror_mode": {
    "name": "ipython",
    "version": 3
   },
   "file_extension": ".py",
   "mimetype": "text/x-python",
   "name": "python",
   "nbconvert_exporter": "python",
   "pygments_lexer": "ipython3",
   "version": "3.7.6"
  }
 },
 "nbformat": 4,
 "nbformat_minor": 4
}
