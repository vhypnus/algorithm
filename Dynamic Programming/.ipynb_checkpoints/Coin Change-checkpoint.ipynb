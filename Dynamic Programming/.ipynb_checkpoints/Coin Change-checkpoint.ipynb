{
 "cells": [
  {
   "cell_type": "markdown",
   "metadata": {},
   "source": [
    "# [Coin Change](https://www.geeksforgeeks.org/coin-change-dp-7/)\n",
    "Given a value N, if we want to make change for N cents, and we have infinite supply of each of S = { S1, S2, .. , Sm} valued coins, how many ways can we make the change? The order of coins doesn’t matter.\n",
    "For example, for N = 4 and S = {1,2,3}, there are four solutions: {1,1,1,1},{1,1,2},{2,2},{1,3}. So output should be 4. For N = 10 and S = {2, 5, 3, 6}, there are five solutions: {2,2,2,2,2}, {2,2,3,3}, {2,2,6}, {2,3,5} and {5,5}. So the output should be 5.\n",
    "\n",
    "**keypoint**\n",
    "- 顺序无关\n",
    "        "
   ]
  },
  {
   "cell_type": "code",
   "execution_count": 37,
   "metadata": {},
   "outputs": [
    {
     "ename": "SyntaxError",
     "evalue": "invalid character in identifier (<ipython-input-37-e436cb695b36>, line 17)",
     "output_type": "error",
     "traceback": [
      "\u001b[0;36m  File \u001b[0;32m\"<ipython-input-37-e436cb695b36>\"\u001b[0;36m, line \u001b[0;32m17\u001b[0m\n\u001b[0;31m    arr = [1, 2, 3，4]\u001b[0m\n\u001b[0m                   ^\u001b[0m\n\u001b[0;31mSyntaxError\u001b[0m\u001b[0;31m:\u001b[0m invalid character in identifier\n"
     ]
    }
   ],
   "source": [
    "def coinchange(n,l,s,sub):\n",
    "    \"\"\"\n",
    "    \n",
    "    s:[]\n",
    "    \"\"\"\n",
    "    if n == 0:\n",
    "        print(sub)\n",
    "        return 1\n",
    "    elif n < 0 :\n",
    "        return 0\n",
    "    elif l <= 0:\n",
    "        return 0\n",
    "    else:\n",
    "        return coinchange(n-s[l-1],l,s,sub+[s[l-1]])+coinchange(n,l-1,s,sub)\n",
    "\n",
    "# Driver program to test above function \n",
    "arr = [1, 2, 3,4] \n",
    "m = len(arr) \n",
    "print(coinchange(4,m , arr,[])) "
   ]
  },
  {
   "cell_type": "code",
   "execution_count": 24,
   "metadata": {},
   "outputs": [
    {
     "data": {
      "text/plain": [
       "[1, 2]"
      ]
     },
     "execution_count": 24,
     "metadata": {},
     "output_type": "execute_result"
    }
   ],
   "source": [
    "arr = [1, 2, 3] \n",
    "arr[]"
   ]
  },
  {
   "cell_type": "code",
   "execution_count": null,
   "metadata": {},
   "outputs": [],
   "source": []
  }
 ],
 "metadata": {
  "kernelspec": {
   "display_name": "Python 3",
   "language": "python",
   "name": "python3"
  },
  "language_info": {
   "codemirror_mode": {
    "name": "ipython",
    "version": 3
   },
   "file_extension": ".py",
   "mimetype": "text/x-python",
   "name": "python",
   "nbconvert_exporter": "python",
   "pygments_lexer": "ipython3",
   "version": "3.7.6"
  }
 },
 "nbformat": 4,
 "nbformat_minor": 4
}
