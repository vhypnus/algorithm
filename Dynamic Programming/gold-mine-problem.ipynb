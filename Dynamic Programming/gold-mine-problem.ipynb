{
 "cells": [
  {
   "cell_type": "markdown",
   "metadata": {},
   "source": [
    "# [gold-mine-problem](https://www.geeksforgeeks.org/gold-mine-problem/)\n",
    "Given a gold mine of n*m dimensions. Each field in this mine contains a positive integer which is the amount of gold in tons. Initially the miner is at first column but can be at any row. He can move only (right->,right up /,right down\\) that is from a given cell, the miner can move to the cell diagonally up towards the right or right or diagonally down towards the right. Find out maximum amount of gold he can collect.\n",
    "\n",
    "**Examples**\n",
    "```\n",
    "Input : mat[][] = {{1, 3, 3},\n",
    "                   {2, 1, 4},\n",
    "                  {0, 6, 4}};\n",
    "Output : 12 \n",
    "{(1,0)->(2,1)->(2,2)}\n",
    "\n",
    "Input: mat[][] = { {1, 3, 1, 5},\n",
    "                   {2, 2, 4, 1},\n",
    "                   {5, 0, 2, 3},\n",
    "                   {0, 6, 1, 2}};\n",
    "Output : 16\n",
    "(2,0) -> (1,1) -> (1,2) -> (0,3) OR\n",
    "(2,0) -> (3,1) -> (2,2) -> (2,3)\n",
    "\n",
    "Input : mat[][] = {{10, 33, 13, 15},\n",
    "                  {22, 21, 04, 1},\n",
    "                  {5, 0, 2, 3},\n",
    "                  {0, 6, 14, 2}};\n",
    "Output : 83\n",
    "```\n",
    "\n",
    "**keypoint**\n",
    "- 第一列开始，最后一列结束\n",
    "- 倒推，每一次都选最大值，贪心算法"
   ]
  },
  {
   "cell_type": "code",
   "execution_count": 21,
   "metadata": {},
   "outputs": [
    {
     "name": "stdout",
     "output_type": "stream",
     "text": [
      "[[0, 0, 0, 5], [0, 0, 0, 1], [0, 0, 0, 3], [0, 0, 0, 2]]\n",
      "[[0, 0, 6, 5], [0, 0, 9, 1], [0, 0, 5, 3], [0, 0, 4, 2]]\n",
      "[[0, 12, 6, 5], [0, 11, 9, 1], [0, 9, 5, 3], [0, 11, 4, 2]]\n",
      "[[13, 12, 6, 5], [14, 11, 9, 1], [16, 9, 5, 3], [11, 11, 4, 2]]\n",
      "16\n"
     ]
    }
   ],
   "source": [
    "def maxGoldMine(a,r,c):\n",
    "    values = [[0 for i in range(c)] for j in range(r) ]\n",
    "    \n",
    "    right,right_up,right_down = 0,0,0\n",
    "    for i in range(c-1,-1,-1):\n",
    "        for j in range(r):\n",
    "            \n",
    "#             print(j,i)\n",
    "            \n",
    "            if j == 0 or i == c-1:\n",
    "                right_up = 0\n",
    "            else:\n",
    "                right_up = values[j-1][i+1]\n",
    "            \n",
    "            if j == r -1 or i == c-1:\n",
    "                right_down = 0\n",
    "            else:\n",
    "                right_down = values[j+1][i+1]\n",
    "            \n",
    "            if i == c -1:\n",
    "                right = 0\n",
    "            else:\n",
    "                right = values[j][i+1]\n",
    "                \n",
    "            values[j][i] = a[j][i] + max(right,right_up,right_down)\n",
    "        print(values)\n",
    "    res = values[0][0]\n",
    "    for i in range(1,r):\n",
    "        res = max(res,values[i][0])\n",
    "        \n",
    "    return res\n",
    "\n",
    "# Driver code \n",
    "gold = [[1, 3, 1, 5], \n",
    "    [2, 2, 4, 1], \n",
    "    [5, 0, 2, 3], \n",
    "    [0, 6, 1, 2]] \n",
    "  \n",
    "m = 4\n",
    "n = 4\n",
    "  \n",
    "res = maxGoldMine(gold, m, n)\n",
    "import numpy as np\n",
    "\n",
    "print(np.array(res)) \n",
    "            \n",
    "            "
   ]
  },
  {
   "cell_type": "code",
   "execution_count": 23,
   "metadata": {},
   "outputs": [
    {
     "name": "stdout",
     "output_type": "stream",
     "text": [
      "Help on built-in function max in module builtins:\n",
      "\n",
      "max(...)\n",
      "    max(iterable, *[, default=obj, key=func]) -> value\n",
      "    max(arg1, arg2, *args, *[, key=func]) -> value\n",
      "    \n",
      "    With a single iterable argument, return its biggest item. The\n",
      "    default keyword-only argument specifies an object to return if\n",
      "    the provided iterable is empty.\n",
      "    With two or more arguments, return the largest argument.\n",
      "\n"
     ]
    }
   ],
   "source": [
    "help(max)"
   ]
  },
  {
   "cell_type": "code",
   "execution_count": null,
   "metadata": {},
   "outputs": [],
   "source": []
  }
 ],
 "metadata": {
  "kernelspec": {
   "display_name": "Python 3",
   "language": "python",
   "name": "python3"
  },
  "language_info": {
   "codemirror_mode": {
    "name": "ipython",
    "version": 3
   },
   "file_extension": ".py",
   "mimetype": "text/x-python",
   "name": "python",
   "nbconvert_exporter": "python",
   "pygments_lexer": "ipython3",
   "version": "3.7.6"
  }
 },
 "nbformat": 4,
 "nbformat_minor": 4
}
