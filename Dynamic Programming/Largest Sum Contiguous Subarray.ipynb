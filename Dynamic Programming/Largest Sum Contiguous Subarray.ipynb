{
 "cells": [
  {
   "cell_type": "markdown",
   "metadata": {},
   "source": [
    "# [Largest Sum Contiguous Subarray](https://www.geeksforgeeks.org/largest-sum-contiguous-subarray/?ref=lbp)\n",
    "Write an efficient program to find the sum of contiguous subarray within a one-dimensional array of numbers which has the largest sum.\n",
    "\n",
    "\n",
    "**Kadane’s Algorithm:**\n",
    "\n",
    "```\n",
    "Initialize:\n",
    "    max_so_far = 0\n",
    "    max_ending_here = 0\n",
    "\n",
    "Loop for each element of the array\n",
    "  (a) max_ending_here = max_ending_here + a[i]\n",
    "  (b) if(max_ending_here < 0)\n",
    "            max_ending_here = 0\n",
    "  (c) if(max_so_far < max_ending_here)\n",
    "            max_so_far = max_ending_here\n",
    "return max_so_far\n",
    "```"
   ]
  },
  {
   "cell_type": "code",
   "execution_count": 18,
   "metadata": {},
   "outputs": [
    {
     "name": "stdout",
     "output_type": "stream",
     "text": [
      "Maximum contiguous sum is 7\n",
      "Starting Index 2\n",
      "Ending Index 6\n"
     ]
    }
   ],
   "source": [
    "def maxSubArraySum(a,size):\n",
    "    \n",
    "    max_so_far,curr_max,start,end =a[0],a[0],0,0\n",
    "    \n",
    "    for i in range(1,size):\n",
    "        curr_max = max(a[i],curr_max+a[i])\n",
    "        if curr_max == a[i]:\n",
    "            start = i\n",
    "        max_so_far = max(curr_max,max_so_far)\n",
    "        if max_so_far == curr_max:\n",
    "            end = i\n",
    "    \n",
    "    print (\"Maximum contiguous sum is %d\"%(max_so_far)) \n",
    "    print (\"Starting Index %d\"%(start)) \n",
    "    print (\"Ending Index %d\"%(end)) \n",
    "\n",
    "# Driver function to check the above function  \n",
    "a = [-2, -3, 4, -1, -2, 1, 5, -3] \n",
    "maxSubArraySum(a,len(a))"
   ]
  },
  {
   "cell_type": "code",
   "execution_count": null,
   "metadata": {},
   "outputs": [],
   "source": []
  }
 ],
 "metadata": {
  "kernelspec": {
   "display_name": "Python 3",
   "language": "python",
   "name": "python3"
  },
  "language_info": {
   "codemirror_mode": {
    "name": "ipython",
    "version": 3
   },
   "file_extension": ".py",
   "mimetype": "text/x-python",
   "name": "python",
   "nbconvert_exporter": "python",
   "pygments_lexer": "ipython3",
   "version": "3.7.6"
  }
 },
 "nbformat": 4,
 "nbformat_minor": 4
}
