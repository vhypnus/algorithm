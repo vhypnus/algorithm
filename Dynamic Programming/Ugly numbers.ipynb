{
 "cells": [
  {
   "cell_type": "markdown",
   "metadata": {},
   "source": [
    "# Ugly numbers\n",
    "Ugly numbers are numbers whose only prime factors are 2, 3 or 5. The sequence 1, 2, 3, 4, 5, 6, 8, 9, 10, 12, 15, … shows the first 11 ugly numbers. By convention, 1 is included.\n",
    "\n",
    "Given a number n, the task is to find n’th Ugly number.\n",
    "\n",
    "**examples**\n",
    "Input  : n = 7\n",
    "Output : 8\n",
    "\n",
    "Input  : n = 10\n",
    "Output : 12\n",
    "\n",
    "Input  : n = 15\n",
    "Output : 24\n",
    "\n",
    "Input  : n = 150\n",
    "Output : 5832"
   ]
  },
  {
   "cell_type": "code",
   "execution_count": 12,
   "metadata": {},
   "outputs": [
    {
     "name": "stdout",
     "output_type": "stream",
     "text": [
      "5832\n"
     ]
    }
   ],
   "source": [
    "def nthUglyNo(n):\n",
    "    ugly = [0]*n\n",
    "    \n",
    "    ugly[0] = 1\n",
    "    \n",
    "    i2=i3=i5=0\n",
    "    \n",
    "    next_multiple_of_2,next_multiple_of_3,next_multiple_of_5 = 2,3,5\n",
    "    \n",
    "    for p in range(1,n):\n",
    "        ugly[p] = min(next_multiple_of_2,next_multiple_of_3,next_multiple_of_5)\n",
    "        \n",
    "        if ugly[p] == next_multiple_of_2 :\n",
    "            i2 += 1\n",
    "            next_multiple_of_2 = ugly[i2] * 2\n",
    "            \n",
    "        if ugly[p] == next_multiple_of_3 :\n",
    "            i3 += 1\n",
    "            next_multiple_of_3 = ugly[i3] * 3\n",
    "            \n",
    "        if ugly[p] == next_multiple_of_5 :\n",
    "            i5 += 1\n",
    "            next_multiple_of_5 = ugly[i5] * 5\n",
    "            \n",
    "    return ugly[-1]\n",
    "\n",
    "\n",
    "def main(): \n",
    "  \n",
    "    n = 150\n",
    "  \n",
    "    print(nthUglyNo(n)) \n",
    "  \n",
    "  \n",
    "if __name__ == '__main__': \n",
    "    main() \n",
    "        "
   ]
  },
  {
   "cell_type": "code",
   "execution_count": null,
   "metadata": {},
   "outputs": [],
   "source": []
  }
 ],
 "metadata": {
  "kernelspec": {
   "display_name": "Python 3",
   "language": "python",
   "name": "python3"
  },
  "language_info": {
   "codemirror_mode": {
    "name": "ipython",
    "version": 3
   },
   "file_extension": ".py",
   "mimetype": "text/x-python",
   "name": "python",
   "nbconvert_exporter": "python",
   "pygments_lexer": "ipython3",
   "version": "3.7.6"
  }
 },
 "nbformat": 4,
 "nbformat_minor": 4
}
