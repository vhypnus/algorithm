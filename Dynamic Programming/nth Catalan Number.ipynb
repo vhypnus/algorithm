{
 "cells": [
  {
   "cell_type": "markdown",
   "metadata": {},
   "source": [
    "# [nth atalan number](https://www.geeksforgeeks.org/program-nth-catalan-number/)\n",
    "卡塔兰数\n",
    "\n",
    "Catalan numbers are a sequence of natural numbers that occurs in many interesting counting problems like following.\n",
    "1) Count the number of expressions containing n pairs of parentheses which are correctly matched. For n = 3, possible expressions are ((())), ()(()), ()()(), (())(), (()()).\n",
    "\n",
    "2) Count the number of possible Binary Search Trees with n keys (See this)\n",
    "\n",
    "\n",
    "\n",
    "3) Count the number of full binary trees (A rooted binary tree is full if every vertex has either two children or no children) with n+1 leaves.\n",
    "\n",
    "3) Given a number n, return the number of ways you can draw n chords in a circle with 2 x n points such that no 2 chords intersect.\n",
    "\n",
    "\n",
    "\n",
    "[applications of catalan numbers](https://www.geeksforgeeks.org/applications-of-catalan-numbers/)"
   ]
  },
  {
   "cell_type": "code",
   "execution_count": null,
   "metadata": {},
   "outputs": [],
   "source": []
  }
 ],
 "metadata": {
  "kernelspec": {
   "display_name": "Python 3",
   "language": "python",
   "name": "python3"
  },
  "language_info": {
   "codemirror_mode": {
    "name": "ipython",
    "version": 3
   },
   "file_extension": ".py",
   "mimetype": "text/x-python",
   "name": "python",
   "nbconvert_exporter": "python",
   "pygments_lexer": "ipython3",
   "version": "3.7.6"
  }
 },
 "nbformat": 4,
 "nbformat_minor": 4
}
