{
 "cells": [
  {
   "cell_type": "markdown",
   "metadata": {},
   "source": [
    "# [Friends Pairing Problem](https://www.geeksforgeeks.org/friends-pairing-problem/)\n",
    "Given n friends, each one can remain single or can be paired up with some other friend. Each friend can be paired only once. Find out the total number of ways in which friends can remain single or can be paired up.\n",
    "\n",
    "**solution**\n",
    "\n",
    "f(n) = ways n people can remain single \n",
    "       or pair up.\n",
    "\n",
    "For n-th person there are two choices:\n",
    "1) n-th person remains single, we recur \n",
    "   for f(n - 1)\n",
    "2) n-th person pairs up with any of the \n",
    "   remaining n - 1 persons. We get (n - 1) * f(n - 2)\n",
    "\n",
    "Therefore we can recursively write f(n) as:\n",
    "$f(n) = f(n - 1) + (n - 1) * f(n - 2)$\n",
    "\n"
   ]
  },
  {
   "cell_type": "code",
   "execution_count": 13,
   "metadata": {},
   "outputs": [
    {
     "name": "stdout",
     "output_type": "stream",
     "text": [
      "2\n",
      "4\n",
      "10\n",
      "26\n"
     ]
    }
   ],
   "source": [
    "def count(l):\n",
    "    if l <= 2:\n",
    "        return l\n",
    "    else:\n",
    "        return count(l-1)+(l-1)*count(l-2)\n",
    "\n",
    "print(count(2))\n",
    "print(count(3))\n",
    "print(count(4))\n",
    "print(count(5))"
   ]
  },
  {
   "cell_type": "code",
   "execution_count": null,
   "metadata": {},
   "outputs": [],
   "source": []
  }
 ],
 "metadata": {
  "kernelspec": {
   "display_name": "Python 3",
   "language": "python",
   "name": "python3"
  },
  "language_info": {
   "codemirror_mode": {
    "name": "ipython",
    "version": 3
   },
   "file_extension": ".py",
   "mimetype": "text/x-python",
   "name": "python",
   "nbconvert_exporter": "python",
   "pygments_lexer": "ipython3",
   "version": "3.7.6"
  }
 },
 "nbformat": 4,
 "nbformat_minor": 4
}
