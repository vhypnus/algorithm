{
 "cells": [
  {
   "cell_type": "markdown",
   "metadata": {},
   "source": [
    "# [quick sort on single link list](https://www.geeksforgeeks.org/quicksort-on-singly-linked-list/)"
   ]
  },
  {
   "cell_type": "code",
   "execution_count": 5,
   "metadata": {},
   "outputs": [
    {
     "name": "stdout",
     "output_type": "stream",
     "text": [
      " 10 None 15-> 15 10 9-> 9 15 8-> 8 9 18-> 18 8 46-> 46 18 40-> 40 46 81-> 81 40 68-> 68 81 78-> 78 68 None->True\n",
      "-----------swap test----------------\n",
      " 68 81 78, 78 68 None\n",
      "after, 78 81 68, 68 78 None\n"
     ]
    }
   ],
   "source": [
    "class DoubleLinkedList:\n",
    "    def __init__(self):\n",
    "        self.tail = None\n",
    "        self.head = None\n",
    "    \n",
    "    def push(self,node):\n",
    "        if self.head == None:\n",
    "            self.head = node\n",
    "        \n",
    "        if self.tail == None:\n",
    "            self.tail = node\n",
    "        else:\n",
    "            self.tail.next = node\n",
    "            node.prev = self.tail\n",
    "            self.tail = node\n",
    "    \n",
    "    def pop():\n",
    "        \"\"\"\n",
    "        \"\"\"\n",
    "        pass\n",
    "    \n",
    "\n",
    "\n",
    "        \n",
    "    \n",
    "    \n",
    "        \n",
    "    \n",
    "class Node:\n",
    "    def __init__(self,value):\n",
    "        self.value = value\n",
    "        self.prev = None\n",
    "        self.next = None\n",
    "        \n",
    "    def __str__(self):\n",
    "        return \" {} {} {}\".format(self.value,self.prev.value if self.prev != None else None,self.next.value if self.next != None else None)\n",
    "\n",
    "\n",
    "    \n",
    "\n",
    "\n",
    "def output(head):\n",
    "    node = head\n",
    "    while node != None:\n",
    "        print(node,end=\"->\")\n",
    "        node = node.next\n",
    "\n",
    "def swap(a,b):\n",
    "    print(a,b,sep=\",\")\n",
    "    a,b = b,a\n",
    "    if a.prev == b:\n",
    "        a.prev,b.prev = b.prev,a\n",
    "        a.next,b.next = b,a.next\n",
    "    elif b.prev == a:\n",
    "        a.prev,b.prev = b,a.prev\n",
    "        a.next ,b.next = b.next,a\n",
    "    else:\n",
    "        a.prev ,b.prev = b.prev,a.prev\n",
    "        b.next,a.next = a.next,b.next\n",
    "        b.prev.next ,a.prev.next = b ,a\n",
    "    print(\"after\",a,b,sep=\",\")\n",
    "        \n",
    "if __name__ == '__main__':\n",
    "    dll = DoubleLinkedList()\n",
    "    dll.push(Node(10))\n",
    "    dll.push(Node(15))\n",
    "    dll.push(Node(9))\n",
    "    dll.push(Node(8))\n",
    "    dll.push(Node(18))\n",
    "    dll.push(Node(46))\n",
    "   \n",
    "    dll.push(Node(40))\n",
    "    dll.push(Node(81))\n",
    "    n1 = Node(68)\n",
    "    dll.push(n1)\n",
    "    \n",
    "    n2 = Node(78)\n",
    "    dll.push(n2)\n",
    "#     print(n1)\n",
    "   \n",
    "    output(dll.head)\n",
    "    print(n1 == n1)\n",
    "\n",
    "    print(\"-----------swap test----------------\")\n",
    "    swap(n1,n2)\n",
    "    \n",
    "#     output(dll.head)\n",
    "    \n",
    "#     print(\"---------------partition test-----------------\")\n",
    "#     output(dll.head)\n",
    "    partition(dll.head,dll.tail)\n",
    "#     quicksort(dll.head,dll.tail)\n",
    "    \n",
    "    output(dll.head)\n",
    "    \n",
    "        \n",
    "\n",
    "\n",
    "\n",
    "\n",
    "    "
   ]
  },
  {
   "cell_type": "code",
   "execution_count": 63,
   "metadata": {},
   "outputs": [
    {
     "name": "stdout",
     "output_type": "stream",
     "text": [
      "Help on built-in function print in module builtins:\n",
      "\n",
      "print(...)\n",
      "    print(value, ..., sep=' ', end='\\n', file=sys.stdout, flush=False)\n",
      "    \n",
      "    Prints the values to a stream, or to sys.stdout by default.\n",
      "    Optional keyword arguments:\n",
      "    file:  a file-like object (stream); defaults to the current sys.stdout.\n",
      "    sep:   string inserted between values, default a space.\n",
      "    end:   string appended after the last value, default a newline.\n",
      "    flush: whether to forcibly flush the stream.\n",
      "\n"
     ]
    }
   ],
   "source": [
    "help(print)"
   ]
  },
  {
   "cell_type": "code",
   "execution_count": null,
   "metadata": {},
   "outputs": [],
   "source": []
  },
  {
   "cell_type": "code",
   "execution_count": null,
   "metadata": {},
   "outputs": [],
   "source": []
  }
 ],
 "metadata": {
  "kernelspec": {
   "display_name": "Python 3",
   "language": "python",
   "name": "python3"
  },
  "language_info": {
   "codemirror_mode": {
    "name": "ipython",
    "version": 3
   },
   "file_extension": ".py",
   "mimetype": "text/x-python",
   "name": "python",
   "nbconvert_exporter": "python",
   "pygments_lexer": "ipython3",
   "version": "3.7.6"
  }
 },
 "nbformat": 4,
 "nbformat_minor": 4
}
